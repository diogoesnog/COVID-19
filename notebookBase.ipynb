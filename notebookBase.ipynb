{
 "cells": [
  {
   "cell_type": "markdown",
   "metadata": {},
   "source": [
    "# Exploração dados COVID-19 em Portugal"
   ]
  },
  {
   "cell_type": "code",
   "execution_count": 1,
   "metadata": {},
   "outputs": [
    {
     "data": {
      "text/html": [
       "<div>\n",
       "<style scoped>\n",
       "    .dataframe tbody tr th:only-of-type {\n",
       "        vertical-align: middle;\n",
       "    }\n",
       "\n",
       "    .dataframe tbody tr th {\n",
       "        vertical-align: top;\n",
       "    }\n",
       "\n",
       "    .dataframe thead th {\n",
       "        text-align: right;\n",
       "    }\n",
       "</style>\n",
       "<table border=\"1\" class=\"dataframe\">\n",
       "  <thead>\n",
       "    <tr style=\"text-align: right;\">\n",
       "      <th></th>\n",
       "      <th>id</th>\n",
       "      <th>url</th>\n",
       "      <th>data_relatorio</th>\n",
       "      <th>suspeitos</th>\n",
       "      <th>confirmados</th>\n",
       "      <th>nao_confirmados</th>\n",
       "      <th>aguarda_resultados</th>\n",
       "      <th>recuperados</th>\n",
       "      <th>obitos</th>\n",
       "      <th>em_vigilancia</th>\n",
       "      <th>...</th>\n",
       "      <th>obitos_masculino_80_sup</th>\n",
       "      <th>obitos_feminino_0_9</th>\n",
       "      <th>obitos_feminino_10_19</th>\n",
       "      <th>obitos_feminino_20_29</th>\n",
       "      <th>obitos_feminino_30_39</th>\n",
       "      <th>obitos_feminino_40_49</th>\n",
       "      <th>obitos_feminino_50_59</th>\n",
       "      <th>obitos_feminino_60_69</th>\n",
       "      <th>obitos_feminino_70_79</th>\n",
       "      <th>obitos_feminino_80_sup</th>\n",
       "    </tr>\n",
       "  </thead>\n",
       "  <tbody>\n",
       "    <tr>\n",
       "      <th>0</th>\n",
       "      <td>5</td>\n",
       "      <td>https://covid19.min-saude.pt/wp-content/upload...</td>\n",
       "      <td>2020-03-07</td>\n",
       "      <td>224</td>\n",
       "      <td>21</td>\n",
       "      <td>NaN</td>\n",
       "      <td>47.0</td>\n",
       "      <td>NaN</td>\n",
       "      <td>0</td>\n",
       "      <td>412.0</td>\n",
       "      <td>...</td>\n",
       "      <td>NaN</td>\n",
       "      <td>NaN</td>\n",
       "      <td>NaN</td>\n",
       "      <td>NaN</td>\n",
       "      <td>NaN</td>\n",
       "      <td>NaN</td>\n",
       "      <td>NaN</td>\n",
       "      <td>NaN</td>\n",
       "      <td>NaN</td>\n",
       "      <td>NaN</td>\n",
       "    </tr>\n",
       "    <tr>\n",
       "      <th>1</th>\n",
       "      <td>6</td>\n",
       "      <td>https://covid19.min-saude.pt/wp-content/upload...</td>\n",
       "      <td>2020-03-08</td>\n",
       "      <td>281</td>\n",
       "      <td>30</td>\n",
       "      <td>NaN</td>\n",
       "      <td>56.0</td>\n",
       "      <td>NaN</td>\n",
       "      <td>0</td>\n",
       "      <td>447.0</td>\n",
       "      <td>...</td>\n",
       "      <td>NaN</td>\n",
       "      <td>NaN</td>\n",
       "      <td>NaN</td>\n",
       "      <td>NaN</td>\n",
       "      <td>NaN</td>\n",
       "      <td>NaN</td>\n",
       "      <td>NaN</td>\n",
       "      <td>NaN</td>\n",
       "      <td>NaN</td>\n",
       "      <td>NaN</td>\n",
       "    </tr>\n",
       "    <tr>\n",
       "      <th>2</th>\n",
       "      <td>8</td>\n",
       "      <td>https://covid19.min-saude.pt/wp-content/upload...</td>\n",
       "      <td>2020-03-10</td>\n",
       "      <td>375</td>\n",
       "      <td>41</td>\n",
       "      <td>NaN</td>\n",
       "      <td>83.0</td>\n",
       "      <td>NaN</td>\n",
       "      <td>0</td>\n",
       "      <td>667.0</td>\n",
       "      <td>...</td>\n",
       "      <td>NaN</td>\n",
       "      <td>NaN</td>\n",
       "      <td>NaN</td>\n",
       "      <td>NaN</td>\n",
       "      <td>NaN</td>\n",
       "      <td>NaN</td>\n",
       "      <td>NaN</td>\n",
       "      <td>NaN</td>\n",
       "      <td>NaN</td>\n",
       "      <td>NaN</td>\n",
       "    </tr>\n",
       "    <tr>\n",
       "      <th>3</th>\n",
       "      <td>11</td>\n",
       "      <td>https://covid19.min-saude.pt/wp-content/upload...</td>\n",
       "      <td>2020-03-13</td>\n",
       "      <td>1308</td>\n",
       "      <td>112</td>\n",
       "      <td>NaN</td>\n",
       "      <td>172.0</td>\n",
       "      <td>NaN</td>\n",
       "      <td>0</td>\n",
       "      <td>5674.0</td>\n",
       "      <td>...</td>\n",
       "      <td>NaN</td>\n",
       "      <td>NaN</td>\n",
       "      <td>NaN</td>\n",
       "      <td>NaN</td>\n",
       "      <td>NaN</td>\n",
       "      <td>NaN</td>\n",
       "      <td>NaN</td>\n",
       "      <td>NaN</td>\n",
       "      <td>NaN</td>\n",
       "      <td>NaN</td>\n",
       "    </tr>\n",
       "    <tr>\n",
       "      <th>4</th>\n",
       "      <td>12</td>\n",
       "      <td>https://covid19.min-saude.pt/wp-content/upload...</td>\n",
       "      <td>2020-03-14</td>\n",
       "      <td>1704</td>\n",
       "      <td>169</td>\n",
       "      <td>NaN</td>\n",
       "      <td>126.0</td>\n",
       "      <td>1.0</td>\n",
       "      <td>0</td>\n",
       "      <td>5011.0</td>\n",
       "      <td>...</td>\n",
       "      <td>NaN</td>\n",
       "      <td>NaN</td>\n",
       "      <td>NaN</td>\n",
       "      <td>NaN</td>\n",
       "      <td>NaN</td>\n",
       "      <td>NaN</td>\n",
       "      <td>NaN</td>\n",
       "      <td>NaN</td>\n",
       "      <td>NaN</td>\n",
       "      <td>NaN</td>\n",
       "    </tr>\n",
       "  </tbody>\n",
       "</table>\n",
       "<p>5 rows × 55 columns</p>\n",
       "</div>"
      ],
      "text/plain": [
       "   id                                                url data_relatorio  \\\n",
       "0   5  https://covid19.min-saude.pt/wp-content/upload...     2020-03-07   \n",
       "1   6  https://covid19.min-saude.pt/wp-content/upload...     2020-03-08   \n",
       "2   8  https://covid19.min-saude.pt/wp-content/upload...     2020-03-10   \n",
       "3  11  https://covid19.min-saude.pt/wp-content/upload...     2020-03-13   \n",
       "4  12  https://covid19.min-saude.pt/wp-content/upload...     2020-03-14   \n",
       "\n",
       "   suspeitos  confirmados  nao_confirmados  aguarda_resultados  recuperados  \\\n",
       "0        224           21              NaN                47.0          NaN   \n",
       "1        281           30              NaN                56.0          NaN   \n",
       "2        375           41              NaN                83.0          NaN   \n",
       "3       1308          112              NaN               172.0          NaN   \n",
       "4       1704          169              NaN               126.0          1.0   \n",
       "\n",
       "   obitos  em_vigilancia  ...  obitos_masculino_80_sup  obitos_feminino_0_9  \\\n",
       "0       0          412.0  ...                      NaN                  NaN   \n",
       "1       0          447.0  ...                      NaN                  NaN   \n",
       "2       0          667.0  ...                      NaN                  NaN   \n",
       "3       0         5674.0  ...                      NaN                  NaN   \n",
       "4       0         5011.0  ...                      NaN                  NaN   \n",
       "\n",
       "   obitos_feminino_10_19  obitos_feminino_20_29  obitos_feminino_30_39  \\\n",
       "0                    NaN                    NaN                    NaN   \n",
       "1                    NaN                    NaN                    NaN   \n",
       "2                    NaN                    NaN                    NaN   \n",
       "3                    NaN                    NaN                    NaN   \n",
       "4                    NaN                    NaN                    NaN   \n",
       "\n",
       "   obitos_feminino_40_49  obitos_feminino_50_59  obitos_feminino_60_69  \\\n",
       "0                    NaN                    NaN                    NaN   \n",
       "1                    NaN                    NaN                    NaN   \n",
       "2                    NaN                    NaN                    NaN   \n",
       "3                    NaN                    NaN                    NaN   \n",
       "4                    NaN                    NaN                    NaN   \n",
       "\n",
       "   obitos_feminino_70_79  obitos_feminino_80_sup  \n",
       "0                    NaN                     NaN  \n",
       "1                    NaN                     NaN  \n",
       "2                    NaN                     NaN  \n",
       "3                    NaN                     NaN  \n",
       "4                    NaN                     NaN  \n",
       "\n",
       "[5 rows x 55 columns]"
      ]
     },
     "execution_count": 1,
     "metadata": {},
     "output_type": "execute_result"
    }
   ],
   "source": [
    "import pandas as pd\n",
    "df = pd.read_csv(\"https://raw.githubusercontent.com/jgrocha/covid-pt/master/situacao_epidemiologica.csv\")\n",
    "df.head()"
   ]
  },
  {
   "cell_type": "code",
   "execution_count": 2,
   "metadata": {},
   "outputs": [
    {
     "data": {
      "text/plain": [
       "<matplotlib.collections.PathCollection at 0xdf550e8>"
      ]
     },
     "execution_count": 2,
     "metadata": {},
     "output_type": "execute_result"
    },
    {
     "data": {
      "image/png": "[encoded data removed]",
      "text/plain": [
       "<Figure size 432x288 with 1 Axes>"
      ]
     },
     "metadata": {
      "needs_background": "light"
     },
     "output_type": "display_data"
    }
   ],
   "source": [
    "import matplotlib.pyplot as plt\n",
    "\n",
    "sorted_df = df.sort_values(by=['data_relatorio'])\n",
    "\n",
    "x = sorted_df.data_relatorio\n",
    "y = sorted_df.confirmados\n",
    "plt.scatter(x, y)"
   ]
  },
  {
   "cell_type": "code",
   "execution_count": 8,
   "metadata": {},
   "outputs": [
    {
     "ename": "ModuleNotFoundError",
     "evalue": "No module named 'osgeo'",
     "output_type": "error",
     "traceback": [
      "\u001b[1;31m---------------------------------------------------------------------------\u001b[0m",
      "\u001b[1;31mModuleNotFoundError\u001b[0m                       Traceback (most recent call last)",
      "\u001b[1;32m<ipython-input-8-b255e27ac4c3>\u001b[0m in \u001b[0;36m<module>\u001b[1;34m\u001b[0m\n\u001b[0;32m      1\u001b[0m \u001b[1;32mimport\u001b[0m \u001b[0mos\u001b[0m\u001b[1;33m\u001b[0m\u001b[1;33m\u001b[0m\u001b[0m\n\u001b[0;32m      2\u001b[0m \u001b[1;32mimport\u001b[0m \u001b[0msys\u001b[0m\u001b[1;33m\u001b[0m\u001b[1;33m\u001b[0m\u001b[0m\n\u001b[1;32m----> 3\u001b[1;33m \u001b[1;32mfrom\u001b[0m \u001b[0mosgeo\u001b[0m \u001b[1;32mimport\u001b[0m \u001b[0mogr\u001b[0m\u001b[1;33m\u001b[0m\u001b[1;33m\u001b[0m\u001b[0m\n\u001b[0m\u001b[0;32m      4\u001b[0m \u001b[0mos\u001b[0m\u001b[1;33m.\u001b[0m\u001b[0menviron\u001b[0m\u001b[1;33m[\u001b[0m\u001b[1;34m'QT_QPA_PLATFORM'\u001b[0m\u001b[1;33m]\u001b[0m \u001b[1;33m=\u001b[0m \u001b[1;34m'offscreen'\u001b[0m\u001b[1;33m\u001b[0m\u001b[1;33m\u001b[0m\u001b[0m\n\u001b[0;32m      5\u001b[0m \u001b[1;31m#sys.path.insert(0,'/usr/local/share/qgis/python')\u001b[0m\u001b[1;33m\u001b[0m\u001b[1;33m\u001b[0m\u001b[1;33m\u001b[0m\u001b[0m\n",
      "\u001b[1;31mModuleNotFoundError\u001b[0m: No module named 'osgeo'"
     ]
    }
   ],
   "source": [
    "import os\n",
    "import sys\n",
    "from osgeo import ogr\n",
    "os.environ['QT_QPA_PLATFORM'] = 'offscreen'\n",
    "#sys.path.insert(0,'/usr/local/share/qgis/python')\n",
    "from qgis.core import *\n",
    "QgsApplication.setPrefixPath(\"/usr/local\", True) \n",
    "from qgis.gui import *\n",
    "from qgis import processing\n",
    "\n",
    "from qgis.PyQt.QtGui import QColor, QImage\n",
    "from qgis.PyQt.QtCore import QSize, QBuffer, QIODevice\n",
    "\n",
    "qgs = QgsApplication([], False)\n",
    "qgs.initQgis()\n",
    "print(QgsApplication.showSettings())"
   ]
  },
  {
   "cell_type": "code",
   "execution_count": null,
   "metadata": {},
   "outputs": [],
   "source": [
    "covid_gpkg = \"covid-pt-2020-04-20.gpkg\"\n",
    "conn = ogr.Open(covid_gpkg)\n",
    "for i in conn:\n",
    "    vlayer = QgsVectorLayer(\"{}|layername={}\".format(covid_gpkg, i.GetName()), i.GetName(), \"ogr\")\n",
    "    if not vlayer.isValid():\n",
    "        print(\"Layer {} failed to load\".format(i.GetName()))\n",
    "    else:\n",
    "        QgsProject.instance().addMapLayer(vlayer)\n",
    "        print(\"Layer {} loaded\".format(i.GetName()))\n"
   ]
  },
  {
   "cell_type": "code",
   "execution_count": null,
   "metadata": {
    "scrolled": false
   },
   "outputs": [],
   "source": [
    "concelho = QgsProject.instance().mapLayersByName('concelho')[0]\n",
    "for c in concelho.getFeatures():\n",
    "        print(\"Em {} há {} caso(s) confirmados\".format(c[\"concelho\"], c[\"confirmados_concelho_20/04/2020\"]))"
   ]
  },
  {
   "cell_type": "code",
   "execution_count": null,
   "metadata": {
    "scrolled": true
   },
   "outputs": [],
   "source": [
    "expr_sem_casos = QgsExpression( \" \\\"confirmados_concelho_20/04/2020\\\" IS NULL \" )\n",
    "virgens = list(concelho.getFeatures( QgsFeatureRequest( expr_sem_casos ) ))\n",
    "for c in virgens:\n",
    "        print(\"Em {} não há pelos menos 3 casos confirmados\".format(c[\"concelho\"]))"
   ]
  },
  {
   "cell_type": "code",
   "execution_count": null,
   "metadata": {},
   "outputs": [],
   "source": [
    "xt = concelho.extent()\n",
    "# print(xt)\n",
    "width  = 400\n",
    "height = int(width*xt.height()/xt.width())\n",
    "print(\"Gerar mapa com {} por {}\".format(width, height))\n",
    "\n",
    "options = QgsMapSettings()\n",
    "options.setLayers([concelho])\n",
    "options.setBackgroundColor(QColor(255, 255, 255))\n",
    "options.setOutputSize(QSize(width, height))\n",
    "options.setExtent(xt)\n",
    "           \n",
    "render = QgsMapRendererParallelJob(options)\n",
    "render.start()\n",
    "render.waitForFinished()\n",
    "\n",
    "image = render.renderedImage()\n"
   ]
  },
  {
   "cell_type": "code",
   "execution_count": null,
   "metadata": {},
   "outputs": [],
   "source": [
    "from IPython.display import Image"
   ]
  },
  {
   "cell_type": "code",
   "execution_count": null,
   "metadata": {},
   "outputs": [],
   "source": [
    "imgbuf= QBuffer()\n",
    "imgbuf.open( QIODevice.ReadWrite )\n",
    "image.save( imgbuf,\"PNG\" )\n",
    "Image( imgbuf.data() )"
   ]
  }
 ],
 "metadata": {
  "kernelspec": {
   "display_name": "Python 3",
   "language": "python",
   "name": "python3"
  },
  "language_info": {
   "codemirror_mode": {
    "name": "ipython",
    "version": 3
   },
   "file_extension": ".py",
   "mimetype": "text/x-python",
   "name": "python",
   "nbconvert_exporter": "python",
   "pygments_lexer": "ipython3",
   "version": "3.8.2"
  }
 },
 "nbformat": 4,
 "nbformat_minor": 2
}
